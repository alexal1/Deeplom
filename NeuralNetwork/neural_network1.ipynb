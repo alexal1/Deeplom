{
 "cells": [
  {
   "cell_type": "code",
   "execution_count": 1,
   "metadata": {},
   "outputs": [
    {
     "name": "stdout",
     "output_type": "stream",
     "text": [
      "WARNING:tensorflow:From /anaconda3/lib/python3.6/site-packages/tensorflow/contrib/learn/python/learn/datasets/base.py:198: retry (from tensorflow.contrib.learn.python.learn.datasets.base) is deprecated and will be removed in a future version.\n",
      "Instructions for updating:\n",
      "Use the retry module or similar alternatives.\n",
      "TensorFlow version: 1.7.0\n",
      "Eager execution: True\n"
     ]
    }
   ],
   "source": [
    "import os\n",
    "import matplotlib.pyplot as plt\n",
    "\n",
    "import tensorflow as tf\n",
    "import tensorflow.contrib.eager as tfe\n",
    "\n",
    "RANDOM_SEED = 42\n",
    "\n",
    "tf.enable_eager_execution()\n",
    "tf.set_random_seed(RANDOM_SEED)\n",
    "\n",
    "print(\"TensorFlow version: {}\".format(tf.VERSION))\n",
    "print(\"Eager execution: {}\".format(tf.executing_eagerly()))"
   ]
  },
  {
   "cell_type": "code",
   "execution_count": 2,
   "metadata": {},
   "outputs": [
    {
     "name": "stdout",
     "output_type": "stream",
     "text": [
      "example features: tf.Tensor(\n",
      "[0.178668 0.339281 0.487844 0.623748 0.738267 0.823269 0.889403 0.936653\n",
      " 0.964992 0.974983], shape=(10,), dtype=float32)\n",
      "example label: tf.Tensor(3, shape=(), dtype=int32)\n"
     ]
    }
   ],
   "source": [
    "dataset_fp = \"../DataSource/output1_2kg.csv\"\n",
    "\n",
    "def parse_csv(line):\n",
    "    # Set field types\n",
    "    example_defaults = [[0], [0.], [0.], [0.], [0.], [0.], [0.], [0.], [0.], [0.], [0.], [0.], [0.], [0.]]\n",
    "    parsed_line = tf.decode_csv(line, example_defaults, field_delim=\";\")\n",
    "    # Last 10 fields are features, combine into single tensor\n",
    "    features_ = tf.reshape(parsed_line[4:14], shape=[10])\n",
    "    # Label is an index of beam's part where defect occurs\n",
    "    label_ = tf.reshape(parsed_line[1], shape=[]) // 20\n",
    "    label_ = tf.cast(label_, tf.int32)\n",
    "    return features_, label_\n",
    "\n",
    "dataset = tf.data.TextLineDataset(dataset_fp)\n",
    "dataset = dataset.skip(1)\n",
    "\n",
    "train_dataset_size = 8000\n",
    "train_dataset = dataset.take(train_dataset_size)\n",
    "train_dataset = train_dataset.map(parse_csv)\n",
    "train_dataset = train_dataset.shuffle(buffer_size=10000)\n",
    "train_dataset = train_dataset.batch(64)\n",
    "\n",
    "test_dataset = dataset.skip(train_dataset_size)\n",
    "test_dataset = test_dataset.map(parse_csv)\n",
    "test_dataset = test_dataset.shuffle(buffer_size=10000)\n",
    "test_dataset = test_dataset.batch(64)\n",
    "\n",
    "# View a single example entry from a batch\n",
    "features, label = tfe.Iterator(train_dataset).next()\n",
    "print(\"example features:\", features[0])\n",
    "print(\"example label:\", label[0])"
   ]
  },
  {
   "cell_type": "code",
   "execution_count": 3,
   "metadata": {},
   "outputs": [],
   "source": [
    "model = tf.keras.Sequential([\n",
    "    tf.keras.layers.Dense(10, activation=\"relu\", input_shape=(10,)),  # input shape required\n",
    "    tf.keras.layers.Dense(10, activation=\"relu\"),\n",
    "    tf.keras.layers.Dense(10)\n",
    "])\n",
    "\n",
    "def loss(model, x, y):\n",
    "    y_ = model(x)\n",
    "    return tf.losses.sparse_softmax_cross_entropy(labels=y, logits=y_)\n",
    "\n",
    "def grad(model, inputs, targets):\n",
    "    with tfe.GradientTape() as tape:\n",
    "        loss_value = loss(model, inputs, targets)\n",
    "    return tape.gradient(loss_value, model.variables)\n",
    "\n",
    "optimizer = tf.train.AdagradOptimizer(learning_rate=0.1)\n",
    "\n",
    "# keep results for plotting\n",
    "train_loss_results = []\n",
    "train_accuracy_results = []\n",
    "test_loss_results = []\n",
    "test_accuracy_results = []"
   ]
  },
  {
   "cell_type": "code",
   "execution_count": 4,
   "metadata": {},
   "outputs": [
    {
     "name": "stdout",
     "output_type": "stream",
     "text": [
      "Epoch 000: Loss: 2.271, Accuracy: 13.412%\n",
      "Test set: Loss: 2.280, Accuracy: 10.927%\n",
      "Epoch 100: Loss: 1.553, Accuracy: 43.938%\n",
      "Test set: Loss: 1.607, Accuracy: 34.236%\n",
      "Epoch 200: Loss: 1.411, Accuracy: 49.587%\n",
      "Test set: Loss: 1.468, Accuracy: 43.158%\n",
      "Epoch 300: Loss: 1.341, Accuracy: 51.700%\n",
      "Test set: Loss: 1.400, Accuracy: 50.677%\n",
      "Epoch 400: Loss: 1.296, Accuracy: 52.675%\n",
      "Test set: Loss: 1.354, Accuracy: 53.183%\n",
      "Epoch 500: Loss: 1.263, Accuracy: 53.412%\n",
      "Test set: Loss: 1.320, Accuracy: 55.038%\n",
      "Epoch 600: Loss: 1.238, Accuracy: 53.538%\n",
      "Test set: Loss: 1.293, Accuracy: 56.291%\n",
      "Epoch 700: Loss: 1.216, Accuracy: 54.087%\n",
      "Test set: Loss: 1.264, Accuracy: 56.341%\n",
      "Epoch 800: Loss: 1.197, Accuracy: 54.763%\n",
      "Test set: Loss: 1.243, Accuracy: 56.642%\n",
      "Epoch 900: Loss: 1.180, Accuracy: 55.237%\n",
      "Test set: Loss: 1.224, Accuracy: 57.694%\n",
      "Epoch 1000: Loss: 1.164, Accuracy: 55.612%\n",
      "Test set: Loss: 1.207, Accuracy: 57.644%\n",
      "Epoch 1100: Loss: 1.149, Accuracy: 56.137%\n",
      "Test set: Loss: 1.187, Accuracy: 57.644%\n",
      "Epoch 1200: Loss: 1.134, Accuracy: 56.537%\n",
      "Test set: Loss: 1.172, Accuracy: 57.594%\n",
      "Epoch 1300: Loss: 1.119, Accuracy: 57.050%\n",
      "Test set: Loss: 1.156, Accuracy: 57.544%\n",
      "Epoch 1400: Loss: 1.105, Accuracy: 57.488%\n",
      "Test set: Loss: 1.140, Accuracy: 57.845%\n",
      "Epoch 1500: Loss: 1.092, Accuracy: 57.988%\n",
      "Test set: Loss: 1.126, Accuracy: 58.145%\n",
      "Epoch 1600: Loss: 1.079, Accuracy: 58.225%\n",
      "Test set: Loss: 1.113, Accuracy: 58.095%\n",
      "Epoch 1700: Loss: 1.066, Accuracy: 58.725%\n",
      "Test set: Loss: 1.099, Accuracy: 58.647%\n",
      "Epoch 1800: Loss: 1.054, Accuracy: 59.025%\n",
      "Test set: Loss: 1.086, Accuracy: 58.847%\n",
      "Epoch 1900: Loss: 1.042, Accuracy: 59.475%\n",
      "Test set: Loss: 1.074, Accuracy: 59.098%\n",
      "Epoch 2000: Loss: 1.030, Accuracy: 59.900%\n",
      "Test set: Loss: 1.062, Accuracy: 59.549%\n",
      "Epoch 2100: Loss: 1.019, Accuracy: 60.275%\n",
      "Test set: Loss: 1.051, Accuracy: 59.850%\n",
      "Epoch 2200: Loss: 1.009, Accuracy: 60.450%\n",
      "Test set: Loss: 1.040, Accuracy: 60.201%\n",
      "Epoch 2300: Loss: 0.996, Accuracy: 61.275%\n",
      "Test set: Loss: 1.028, Accuracy: 59.900%\n",
      "Epoch 2400: Loss: 0.985, Accuracy: 61.550%\n",
      "Test set: Loss: 1.017, Accuracy: 60.551%\n",
      "Epoch 2500: Loss: 0.976, Accuracy: 61.987%\n",
      "Test set: Loss: 1.008, Accuracy: 61.203%\n",
      "Epoch 2600: Loss: 0.966, Accuracy: 62.275%\n",
      "Test set: Loss: 0.998, Accuracy: 61.404%\n",
      "Epoch 2700: Loss: 0.957, Accuracy: 62.762%\n",
      "Test set: Loss: 0.989, Accuracy: 61.554%\n",
      "Epoch 2800: Loss: 0.949, Accuracy: 63.075%\n",
      "Test set: Loss: 0.981, Accuracy: 61.955%\n",
      "Epoch 2900: Loss: 0.940, Accuracy: 63.325%\n",
      "Test set: Loss: 0.972, Accuracy: 62.005%\n",
      "Epoch 3000: Loss: 0.932, Accuracy: 63.513%\n",
      "Test set: Loss: 0.964, Accuracy: 62.356%\n",
      "Epoch 3100: Loss: 0.924, Accuracy: 63.638%\n",
      "Test set: Loss: 0.956, Accuracy: 62.957%\n",
      "Epoch 3200: Loss: 0.917, Accuracy: 64.038%\n",
      "Test set: Loss: 0.948, Accuracy: 63.008%\n",
      "Epoch 3300: Loss: 0.909, Accuracy: 64.237%\n",
      "Test set: Loss: 0.941, Accuracy: 63.258%\n",
      "Epoch 3400: Loss: 0.902, Accuracy: 64.587%\n",
      "Test set: Loss: 0.934, Accuracy: 63.258%\n",
      "Epoch 3500: Loss: 0.895, Accuracy: 64.812%\n",
      "Test set: Loss: 0.927, Accuracy: 63.659%\n",
      "Epoch 3600: Loss: 0.888, Accuracy: 65.075%\n",
      "Test set: Loss: 0.920, Accuracy: 63.860%\n",
      "Epoch 3700: Loss: 0.882, Accuracy: 65.350%\n",
      "Test set: Loss: 0.914, Accuracy: 64.010%\n",
      "Epoch 3800: Loss: 0.875, Accuracy: 65.575%\n",
      "Test set: Loss: 0.908, Accuracy: 64.110%\n",
      "Epoch 3900: Loss: 0.869, Accuracy: 65.900%\n",
      "Test set: Loss: 0.902, Accuracy: 64.160%\n",
      "Epoch 4000: Loss: 0.863, Accuracy: 66.088%\n",
      "Test set: Loss: 0.896, Accuracy: 64.211%\n",
      "Epoch 4100: Loss: 0.858, Accuracy: 66.325%\n",
      "Test set: Loss: 0.890, Accuracy: 64.662%\n",
      "Epoch 4200: Loss: 0.852, Accuracy: 66.650%\n",
      "Test set: Loss: 0.884, Accuracy: 64.912%\n",
      "Epoch 4300: Loss: 0.847, Accuracy: 66.875%\n",
      "Test set: Loss: 0.879, Accuracy: 65.013%\n",
      "Epoch 4400: Loss: 0.841, Accuracy: 67.112%\n",
      "Test set: Loss: 0.874, Accuracy: 65.163%\n",
      "Epoch 4500: Loss: 0.836, Accuracy: 67.438%\n",
      "Test set: Loss: 0.869, Accuracy: 65.363%\n",
      "Epoch 4600: Loss: 0.831, Accuracy: 67.675%\n",
      "Test set: Loss: 0.864, Accuracy: 65.564%\n",
      "Epoch 4700: Loss: 0.826, Accuracy: 67.900%\n",
      "Test set: Loss: 0.859, Accuracy: 65.764%\n",
      "Epoch 4800: Loss: 0.821, Accuracy: 67.950%\n",
      "Test set: Loss: 0.854, Accuracy: 65.915%\n",
      "Epoch 4900: Loss: 0.817, Accuracy: 68.200%\n",
      "Test set: Loss: 0.850, Accuracy: 66.065%\n",
      "Epoch 5000: Loss: 0.812, Accuracy: 68.463%\n",
      "Test set: Loss: 0.845, Accuracy: 66.216%\n",
      "Epoch 5100: Loss: 0.808, Accuracy: 68.537%\n",
      "Test set: Loss: 0.841, Accuracy: 66.466%\n",
      "Epoch 5200: Loss: 0.804, Accuracy: 68.987%\n",
      "Test set: Loss: 0.838, Accuracy: 66.566%\n",
      "Epoch 5300: Loss: 0.799, Accuracy: 69.000%\n",
      "Test set: Loss: 0.834, Accuracy: 66.817%\n",
      "Epoch 5400: Loss: 0.796, Accuracy: 69.300%\n",
      "Test set: Loss: 0.830, Accuracy: 66.967%\n",
      "Epoch 5500: Loss: 0.792, Accuracy: 69.325%\n",
      "Test set: Loss: 0.827, Accuracy: 67.218%\n",
      "Epoch 5600: Loss: 0.788, Accuracy: 69.513%\n",
      "Test set: Loss: 0.823, Accuracy: 67.619%\n",
      "Epoch 5700: Loss: 0.784, Accuracy: 69.713%\n",
      "Test set: Loss: 0.820, Accuracy: 67.669%\n",
      "Epoch 5800: Loss: 0.781, Accuracy: 69.763%\n",
      "Test set: Loss: 0.816, Accuracy: 67.669%\n",
      "Epoch 5900: Loss: 0.777, Accuracy: 70.050%\n",
      "Test set: Loss: 0.813, Accuracy: 67.870%\n",
      "Epoch 6000: Loss: 0.774, Accuracy: 70.325%\n",
      "Test set: Loss: 0.812, Accuracy: 67.619%\n",
      "Epoch 6100: Loss: 0.770, Accuracy: 70.263%\n",
      "Test set: Loss: 0.808, Accuracy: 67.669%\n",
      "Epoch 6200: Loss: 0.767, Accuracy: 70.525%\n",
      "Test set: Loss: 0.805, Accuracy: 67.769%\n",
      "Epoch 6300: Loss: 0.764, Accuracy: 70.688%\n",
      "Test set: Loss: 0.802, Accuracy: 67.970%\n",
      "Epoch 6400: Loss: 0.761, Accuracy: 70.837%\n",
      "Test set: Loss: 0.800, Accuracy: 68.020%\n",
      "Epoch 6500: Loss: 0.758, Accuracy: 70.938%\n",
      "Test set: Loss: 0.797, Accuracy: 68.120%\n",
      "Epoch 6600: Loss: 0.755, Accuracy: 70.962%\n",
      "Test set: Loss: 0.795, Accuracy: 68.421%\n",
      "Epoch 6700: Loss: 0.752, Accuracy: 71.062%\n",
      "Test set: Loss: 0.792, Accuracy: 68.471%\n",
      "Epoch 6800: Loss: 0.749, Accuracy: 71.213%\n",
      "Test set: Loss: 0.793, Accuracy: 68.972%\n",
      "Epoch 6900: Loss: 0.746, Accuracy: 71.275%\n",
      "Test set: Loss: 0.790, Accuracy: 69.123%\n",
      "Epoch 7000: Loss: 0.743, Accuracy: 71.337%\n",
      "Test set: Loss: 0.788, Accuracy: 69.223%\n",
      "Epoch 7100: Loss: 0.740, Accuracy: 71.325%\n",
      "Test set: Loss: 0.785, Accuracy: 69.273%\n",
      "Epoch 7200: Loss: 0.738, Accuracy: 71.425%\n",
      "Test set: Loss: 0.782, Accuracy: 69.173%\n",
      "Epoch 7300: Loss: 0.735, Accuracy: 71.713%\n",
      "Test set: Loss: 0.779, Accuracy: 69.424%\n",
      "Epoch 7400: Loss: 0.732, Accuracy: 71.762%\n",
      "Test set: Loss: 0.777, Accuracy: 69.674%\n",
      "Epoch 7500: Loss: 0.730, Accuracy: 71.888%\n",
      "Test set: Loss: 0.774, Accuracy: 69.825%\n",
      "Epoch 7600: Loss: 0.727, Accuracy: 71.938%\n",
      "Test set: Loss: 0.772, Accuracy: 69.774%\n",
      "Epoch 7700: Loss: 0.725, Accuracy: 71.975%\n",
      "Test set: Loss: 0.770, Accuracy: 69.724%\n",
      "Epoch 7800: Loss: 0.722, Accuracy: 72.075%\n",
      "Test set: Loss: 0.767, Accuracy: 69.774%\n",
      "Epoch 7900: Loss: 0.720, Accuracy: 72.213%\n",
      "Test set: Loss: 0.771, Accuracy: 70.075%\n",
      "Epoch 8000: Loss: 0.717, Accuracy: 72.400%\n",
      "Test set: Loss: 0.769, Accuracy: 70.125%\n",
      "Epoch 8100: Loss: 0.715, Accuracy: 72.575%\n",
      "Test set: Loss: 0.763, Accuracy: 69.724%\n",
      "Epoch 8200: Loss: 0.713, Accuracy: 72.525%\n",
      "Test set: Loss: 0.765, Accuracy: 69.975%\n",
      "Epoch 8300: Loss: 0.711, Accuracy: 72.638%\n",
      "Test set: Loss: 0.762, Accuracy: 69.975%\n",
      "Epoch 8400: Loss: 0.708, Accuracy: 72.750%\n",
      "Test set: Loss: 0.761, Accuracy: 69.875%\n",
      "Epoch 8500: Loss: 0.706, Accuracy: 72.825%\n",
      "Test set: Loss: 0.758, Accuracy: 69.825%\n",
      "Epoch 8600: Loss: 0.704, Accuracy: 72.812%\n",
      "Test set: Loss: 0.756, Accuracy: 69.825%\n",
      "Epoch 8700: Loss: 0.702, Accuracy: 72.838%\n",
      "Test set: Loss: 0.754, Accuracy: 69.774%\n",
      "Epoch 8800: Loss: 0.700, Accuracy: 72.950%\n",
      "Test set: Loss: 0.749, Accuracy: 69.724%\n",
      "Epoch 8900: Loss: 0.698, Accuracy: 73.062%\n",
      "Test set: Loss: 0.747, Accuracy: 69.574%\n",
      "Epoch 9000: Loss: 0.696, Accuracy: 73.112%\n",
      "Test set: Loss: 0.745, Accuracy: 69.724%\n",
      "Epoch 9100: Loss: 0.694, Accuracy: 73.263%\n",
      "Test set: Loss: 0.743, Accuracy: 69.875%\n",
      "Epoch 9200: Loss: 0.692, Accuracy: 73.338%\n",
      "Test set: Loss: 0.741, Accuracy: 70.075%\n",
      "Epoch 9300: Loss: 0.690, Accuracy: 73.250%\n",
      "Test set: Loss: 0.739, Accuracy: 70.226%\n",
      "Epoch 9400: Loss: 0.688, Accuracy: 73.275%\n",
      "Test set: Loss: 0.738, Accuracy: 70.125%\n",
      "Epoch 9500: Loss: 0.686, Accuracy: 73.288%\n",
      "Test set: Loss: 0.736, Accuracy: 70.226%\n",
      "Epoch 9600: Loss: 0.685, Accuracy: 73.237%\n",
      "Test set: Loss: 0.735, Accuracy: 70.125%\n",
      "Epoch 9700: Loss: 0.683, Accuracy: 73.375%\n",
      "Test set: Loss: 0.733, Accuracy: 70.175%\n"
     ]
    },
    {
     "name": "stdout",
     "output_type": "stream",
     "text": [
      "Epoch 9800: Loss: 0.681, Accuracy: 73.388%\n",
      "Test set: Loss: 0.731, Accuracy: 70.226%\n",
      "Epoch 9900: Loss: 0.679, Accuracy: 73.487%\n",
      "Test set: Loss: 0.730, Accuracy: 70.426%\n",
      "Epoch 10000: Loss: 0.678, Accuracy: 73.550%\n",
      "Test set: Loss: 0.729, Accuracy: 70.376%\n"
     ]
    }
   ],
   "source": [
    "num_epochs = 10001\n",
    "\n",
    "for epoch in range(num_epochs):\n",
    "    epoch_loss_avg = tfe.metrics.Mean()\n",
    "    epoch_accuracy = tfe.metrics.Accuracy()\n",
    "\n",
    "    # Training loop - using batches of 64\n",
    "    for x, y in tfe.Iterator(train_dataset):\n",
    "        # Optimize the model\n",
    "        grads = grad(model, x, y)\n",
    "        optimizer.apply_gradients(zip(grads, model.variables),\n",
    "                                  global_step=tf.train.get_or_create_global_step())\n",
    "\n",
    "        # Track progress\n",
    "        epoch_loss_avg(loss(model, x, y))  # add current batch loss\n",
    "        # compare predicted label to actual label\n",
    "        epoch_accuracy(tf.argmax(model(x), axis=1, output_type=tf.int32), y)\n",
    "\n",
    "    # end epoch\n",
    "    train_loss_results.append(epoch_loss_avg.result())\n",
    "    train_accuracy_results.append(epoch_accuracy.result())\n",
    "    \n",
    "    # Evaluate the model on the test dataset\n",
    "    test_loss_avg = tfe.metrics.Mean()\n",
    "    test_accuracy = tfe.metrics.Accuracy()\n",
    "\n",
    "    for x, y in tfe.Iterator(test_dataset):\n",
    "        prediction = tf.argmax(model(x), axis=1, output_type=tf.int32)\n",
    "        test_loss_avg(loss(model, x, y))\n",
    "        test_accuracy(prediction, y)\n",
    "\n",
    "    test_loss_results.append(test_loss_avg.result())\n",
    "    test_accuracy_results.append(test_accuracy.result())\n",
    "    \n",
    "    if epoch % 100 == 0:\n",
    "        print(\"Epoch {:03d}: Loss: {:.3f}, Accuracy: {:.3%}\".format(epoch,\n",
    "                                                                epoch_loss_avg.result(),\n",
    "                                                                epoch_accuracy.result()))\n",
    "        \n",
    "        print(\"Test set: Loss: {:.3f}, Accuracy: {:.3%}\".format(test_loss_avg.result(),\n",
    "                                                                test_accuracy.result()))"
   ]
  },
  {
   "cell_type": "code",
   "execution_count": 5,
   "metadata": {},
   "outputs": [
    {
     "data": {
      "image/png": "[encoded data removed]",
      "text/plain": [
       "<matplotlib.figure.Figure at 0x1c1f417978>"
      ]
     },
     "metadata": {},
     "output_type": "display_data"
    }
   ],
   "source": [
    "fig, axes = plt.subplots(2, sharex=True, figsize=(12, 8))\n",
    "fig.suptitle('Training Metrics')\n",
    "\n",
    "axes[0].set_ylabel(\"Loss\", fontsize=14)\n",
    "axes[0].plot(train_loss_results, label=\"train\")\n",
    "axes[0].plot(test_loss_results, label=\"test\")\n",
    "axes[0].legend(bbox_to_anchor=(1.01, 1), loc='upper left', borderaxespad=0.)\n",
    "\n",
    "axes[1].set_ylabel(\"Accuracy\", fontsize=14)\n",
    "axes[1].set_xlabel(\"Epoch\", fontsize=14)\n",
    "axes[1].plot(train_accuracy_results, label=\"train\")\n",
    "axes[1].plot(test_accuracy_results, label=\"test\")\n",
    "axes[1].legend(bbox_to_anchor=(1.01, 1), loc='upper left', borderaxespad=0.)\n",
    "\n",
    "plt.show()"
   ]
  },
  {
   "cell_type": "code",
   "execution_count": 36,
   "metadata": {},
   "outputs": [],
   "source": [
    "def predict(input_tensor):\n",
    "    print(\"input tensor:\", input_tensor)\n",
    "    prediction = model(input_tensor)\n",
    "    print(\"prediction:\", prediction)\n",
    "    probabilities = tf.contrib.util.constant_value(tf.nn.softmax(prediction))[0]\n",
    "    plt.bar(range(10), probabilities, tick_label=range(10))\n",
    "    plt.show()"
   ]
  },
  {
   "cell_type": "code",
   "execution_count": 44,
   "metadata": {},
   "outputs": [
    {
     "name": "stdout",
     "output_type": "stream",
     "text": [
      "input tensor: tf.Tensor(\n",
      "[[0.18084054 0.3402412  0.48197126 0.604813   0.7087362  0.7937768\n",
      "  0.8599215  0.9071722  0.9355156  0.9455064 ]], shape=(1, 10), dtype=float32)\n",
      "prediction: tf.Tensor(\n",
      "[[ -7.368324   -5.1394253  -4.9853725  -9.443573  -11.674418   -9.046854\n",
      "   -9.980521  -14.011761   -8.58517    -6.3703957]], shape=(1, 10), dtype=float32)\n"
     ]
    },
    {
     "data": {
      "image/png": "[encoded data removed]",
      "text/plain": [
       "<matplotlib.figure.Figure at 0x1d2c03c160>"
      ]
     },
     "metadata": {},
     "output_type": "display_data"
    }
   ],
   "source": [
    "# Defect at (10.0, 10.0)\n",
    "predict(tf.convert_to_tensor([[\n",
    "    0.1808405343537812,\n",
    "    0.340241207792753,\n",
    "    0.481971255745045,\n",
    "    0.6048129543274491,\n",
    "    0.7087361584415679,\n",
    "    0.7937768372479924,\n",
    "    0.8599215006109187,\n",
    "    0.9071721819778894,\n",
    "    0.9355155539452132,\n",
    "    0.9455063674119936\n",
    "]]))"
   ]
  },
  {
   "cell_type": "code",
   "execution_count": 46,
   "metadata": {},
   "outputs": [
    {
     "name": "stdout",
     "output_type": "stream",
     "text": [
      "input tensor: tf.Tensor(\n",
      "[[0.18082097 0.34134886 0.48163694 0.6044725  0.708416   0.7934547\n",
      "  0.85959816 0.9068401  0.9351795  0.945171  ]], shape=(1, 10), dtype=float32)\n",
      "prediction: tf.Tensor(\n",
      "[[ -5.1013575  -3.4690087  -4.351266  -10.599114  -13.607382  -10.235837\n",
      "  -10.893956  -14.897898   -8.612098   -6.408027 ]], shape=(1, 10), dtype=float32)\n"
     ]
    },
    {
     "data": {
      "image/png": "[encoded data removed]",
      "text/plain": [
       "<matplotlib.figure.Figure at 0x1d2c1be2e8>"
      ]
     },
     "metadata": {},
     "output_type": "display_data"
    }
   ],
   "source": [
    "# Defect at (30.0, 10.0)\n",
    "predict(tf.convert_to_tensor([[\n",
    "    0.18082096973504352,\n",
    "    0.341348857701782,\n",
    "    0.48163692675938846,\n",
    "    0.6044725114975288,\n",
    "    0.7084159807258419,\n",
    "    0.7934547190834322,\n",
    "    0.8595981802038564,\n",
    "    0.9068400783458913,\n",
    "    0.9351794852474714,\n",
    "    0.9451710252912452\n",
    "]]))"
   ]
  },
  {
   "cell_type": "code",
   "execution_count": 47,
   "metadata": {},
   "outputs": [
    {
     "name": "stdout",
     "output_type": "stream",
     "text": [
      "input tensor: tf.Tensor(\n",
      "[[0.17866014 0.34170333 0.48333317 0.6046702  0.7086142  0.7936529\n",
      "  0.85979635 0.9070383  0.93537766 0.9453692 ]], shape=(1, 10), dtype=float32)\n",
      "prediction: tf.Tensor(\n",
      "[[-10.478681   -7.480942   -5.8952904  -7.119632   -8.011385   -7.488905\n",
      "   -9.72123   -15.118769  -10.010516   -6.9623976]], shape=(1, 10), dtype=float32)\n"
     ]
    },
    {
     "data": {
      "image/png": "[encoded data removed]",
      "text/plain": [
       "<matplotlib.figure.Figure at 0x1d2c1afd68>"
      ]
     },
     "metadata": {},
     "output_type": "display_data"
    }
   ],
   "source": [
    "# Defect at (50.0, 10.0)\n",
    "predict(tf.convert_to_tensor([[\n",
    "    0.17866014537853742,\n",
    "    0.3417033308847898,\n",
    "    0.48333317464927705,\n",
    "    0.6046702413780434,\n",
    "    0.7086141659885471,\n",
    "    0.7936528999109453,\n",
    "    0.859796361799922,\n",
    "    0.9070382599277853,\n",
    "    0.9353776668294789,\n",
    "    0.9453692068732497\n",
    "]]))"
   ]
  },
  {
   "cell_type": "code",
   "execution_count": 48,
   "metadata": {},
   "outputs": [
    {
     "name": "stdout",
     "output_type": "stream",
     "text": [
      "input tensor: tf.Tensor(\n",
      "[[0.1786674  0.33929124 0.4833701  0.606127   0.70849144 0.7935366\n",
      "  0.85968584 0.9069268  0.93527013 0.94526094]], shape=(1, 10), dtype=float32)\n",
      "prediction: tf.Tensor(\n",
      "[[-14.531332  -10.470314   -7.019347   -4.877838   -4.3291597  -5.363514\n",
      "   -8.292187  -14.046914  -10.295108   -7.0409117]], shape=(1, 10), dtype=float32)\n"
     ]
    },
    {
     "data": {
      "image/png": "[encoded data removed]",
      "text/plain": [
       "<matplotlib.figure.Figure at 0x1d2c44bda0>"
      ]
     },
     "metadata": {},
     "output_type": "display_data"
    }
   ],
   "source": [
    "# Defect at (70.0, 10.0)\n",
    "predict(tf.convert_to_tensor([[\n",
    "    0.17866738980126073,\n",
    "    0.33929125953322703,\n",
    "    0.48337008528319453,\n",
    "    0.6061270449353259,\n",
    "    0.7084914417887473,\n",
    "    0.7935365867912595,\n",
    "    0.8596858454006034,\n",
    "    0.9069268033691631,\n",
    "    0.9352701344215305,\n",
    "    0.9452609487039583\n",
    "]]))"
   ]
  },
  {
   "cell_type": "code",
   "execution_count": 49,
   "metadata": {},
   "outputs": [
    {
     "name": "stdout",
     "output_type": "stream",
     "text": [
      "input tensor: tf.Tensor(\n",
      "[[0.1786674  0.33927652 0.48101816 0.6061445  0.7100184  0.79342145\n",
      "  0.85956824 0.9068188  0.9351622  0.945153  ]], shape=(1, 10), dtype=float32)\n",
      "prediction: tf.Tensor(\n",
      "[[-16.116087  -11.539389   -7.35758    -4.7775755  -4.0232887  -4.4987097\n",
      "   -6.7162704 -11.209941   -8.88587    -6.4034953]], shape=(1, 10), dtype=float32)\n"
     ]
    },
    {
     "data": {
      "image/png": "[encoded data removed]",
      "text/plain": [
       "<matplotlib.figure.Figure at 0x1d2c2a6d30>"
      ]
     },
     "metadata": {},
     "output_type": "display_data"
    }
   ],
   "source": [
    "# Defect at (90.0, 10.0)\n",
    "predict(tf.convert_to_tensor([[\n",
    "    0.1786673931681812,\n",
    "    0.33927653229026783,\n",
    "    0.4810181492387796,\n",
    "    0.6061444966710396,\n",
    "    0.7100184172714854,\n",
    "    0.793421460595827,\n",
    "    0.8595682556383667,\n",
    "    0.906818804669362,\n",
    "    0.9351621790867785,\n",
    "    0.945152992536065\n",
    "]]))"
   ]
  },
  {
   "cell_type": "code",
   "execution_count": 50,
   "metadata": {},
   "outputs": [
    {
     "name": "stdout",
     "output_type": "stream",
     "text": [
      "input tensor: tf.Tensor(\n",
      "[[0.17866738 0.3392772  0.48102307 0.6038621  0.7099885  0.7950041\n",
      "  0.85946214 0.90671134 0.9350556  0.94504654]], shape=(1, 10), dtype=float32)\n",
      "prediction: tf.Tensor(\n",
      "[[-16.39731   -11.698267   -7.435609   -5.8183646  -5.356698   -4.2662554\n",
      "   -5.060506   -7.388175   -6.508769   -5.3520446]], shape=(1, 10), dtype=float32)\n"
     ]
    },
    {
     "data": {
      "image/png": "[encoded data removed]",
      "text/plain": [
       "<matplotlib.figure.Figure at 0x1d2c4ff630>"
      ]
     },
     "metadata": {},
     "output_type": "display_data"
    }
   ],
   "source": [
    "# Defect at (110.0, 10.0)\n",
    "predict(tf.convert_to_tensor([[\n",
    "    0.17866738555113773,\n",
    "    0.33927720572311704,\n",
    "    0.48102306275049245,\n",
    "    0.6038620821725328,\n",
    "    0.7099884928248044,\n",
    "    0.7950041048675704,\n",
    "    0.8594621583712174,\n",
    "    0.906711311128509,\n",
    "    0.9350556158687557,\n",
    "    0.9450465188778997\n",
    "]]))"
   ]
  },
  {
   "cell_type": "code",
   "execution_count": 51,
   "metadata": {},
   "outputs": [
    {
     "name": "stdout",
     "output_type": "stream",
     "text": [
      "input tensor: tf.Tensor(\n",
      "[[0.17866738 0.3392772  0.48102307 0.6038609  0.7077906  0.7950022\n",
      "  0.86111486 0.90659887 0.93494415 0.9449356 ]], shape=(1, 10), dtype=float32)\n",
      "prediction: tf.Tensor(\n",
      "[[-16.23752   -11.649219   -7.547208   -7.0058565  -6.804247   -4.226821\n",
      "   -3.6787822  -3.9434426  -4.2295985  -4.346916 ]], shape=(1, 10), dtype=float32)\n"
     ]
    },
    {
     "data": {
      "image/png": "[encoded data removed]",
      "text/plain": [
       "<matplotlib.figure.Figure at 0x1d2c6744e0>"
      ]
     },
     "metadata": {},
     "output_type": "display_data"
    }
   ],
   "source": [
    "# Defect at (130.0, 10.0)\n",
    "predict(tf.convert_to_tensor([[\n",
    "    0.17866738554275302,\n",
    "    0.339277206051974,\n",
    "    0.4810230805343537,\n",
    "    0.6038608917265234,\n",
    "    0.7077906184250685,\n",
    "    0.7950022500939448,\n",
    "    0.8611148623176075,\n",
    "    0.9065988370275837,\n",
    "    0.9349441506091364,\n",
    "    0.9449356400006531\n",
    "]]))"
   ]
  },
  {
   "cell_type": "code",
   "execution_count": 52,
   "metadata": {},
   "outputs": [
    {
     "name": "stdout",
     "output_type": "stream",
     "text": [
      "input tensor: tf.Tensor(\n",
      "[[0.17866215 0.33929476 0.48102447 0.60386074 0.7077952  0.79282963\n",
      "  0.8610881  0.90831584 0.93484205 0.9448258 ]], shape=(1, 10), dtype=float32)\n",
      "prediction: tf.Tensor(\n",
      "[[-14.552427  -10.557374   -7.3167953  -8.5404625  -8.88482    -4.9834504\n",
      "   -3.476927   -2.4802468  -2.846898   -3.7549903]], shape=(1, 10), dtype=float32)\n"
     ]
    },
    {
     "data": {
      "image/png": "[encoded data removed]",
      "text/plain": [
       "<matplotlib.figure.Figure at 0x1d2c78cef0>"
      ]
     },
     "metadata": {},
     "output_type": "display_data"
    }
   ],
   "source": [
    "# Defect at (150.0, 10.0)\n",
    "predict(tf.convert_to_tensor([[\n",
    "    0.1786621469050847,\n",
    "    0.33929476803500913,\n",
    "    0.4810244815791084,\n",
    "    0.6038607082449885,\n",
    "    0.7077951777635609,\n",
    "    0.7928296189169968,\n",
    "    0.8610880863520557,\n",
    "    0.9083158263953878,\n",
    "    0.934842071003691,\n",
    "    0.9448258560253059\n",
    "]]))"
   ]
  },
  {
   "cell_type": "code",
   "execution_count": 53,
   "metadata": {},
   "outputs": [
    {
     "name": "stdout",
     "output_type": "stream",
     "text": [
      "input tensor: tf.Tensor(\n",
      "[[0.17866215 0.33929476 0.48102447 0.6038607  0.70779526 0.7928275\n",
      "  0.85896677 0.90824324 0.93660516 0.9446268 ]], shape=(1, 10), dtype=float32)\n",
      "prediction: tf.Tensor(\n",
      "[[-11.927111   -8.671527   -6.660035   -9.783341  -10.932157   -6.3723054\n",
      "   -4.662876   -3.7250335  -2.9789486  -3.8381374]], shape=(1, 10), dtype=float32)\n"
     ]
    },
    {
     "data": {
      "image/png": "[encoded data removed]",
      "text/plain": [
       "<matplotlib.figure.Figure at 0x1d2c747dd8>"
      ]
     },
     "metadata": {},
     "output_type": "display_data"
    }
   ],
   "source": [
    "# Defect at (170.0, 10.0)\n",
    "predict(tf.convert_to_tensor([[\n",
    "    0.17866214691275106,\n",
    "    0.3392947680489735,\n",
    "    0.48102448165184675,\n",
    "    0.6038607047058148,\n",
    "    0.7077952468372659,\n",
    "    0.792827512226871,\n",
    "    0.8589667789681806,\n",
    "    0.908243251688178,\n",
    "    0.9366051629289601,\n",
    "    0.9446267986500986\n",
    "]]))"
   ]
  },
  {
   "cell_type": "code",
   "execution_count": 54,
   "metadata": {},
   "outputs": [
    {
     "name": "stdout",
     "output_type": "stream",
     "text": [
      "input tensor: tf.Tensor(\n",
      "[[0.17866215 0.33929476 0.48102447 0.6038607  0.70779526 0.7928275\n",
      "  0.85896343 0.9062224  0.93799955 0.9618735 ]], shape=(1, 10), dtype=float32)\n",
      "prediction: tf.Tensor(\n",
      "[[-13.752942  -10.348149   -7.6406527  -9.07443    -9.183503   -5.2851105\n",
      "   -3.703747   -2.4189155  -2.4815845  -3.5991988]], shape=(1, 10), dtype=float32)\n"
     ]
    },
    {
     "data": {
      "image/png": "[encoded data removed]",
      "text/plain": [
       "<matplotlib.figure.Figure at 0x1d2c900240>"
      ]
     },
     "metadata": {},
     "output_type": "display_data"
    }
   ],
   "source": [
    "# Defect at (190.0, 10.0)\n",
    "predict(tf.convert_to_tensor([[\n",
    "    0.17866214691500926,\n",
    "    0.3392947680534193,\n",
    "    0.4810244816582007,\n",
    "    0.6038607047382577,\n",
    "    0.7077952455974407,\n",
    "    0.792827509573063,\n",
    "    0.8589634402312243,\n",
    "    0.9062223843392093,\n",
    "    0.9379995472141278,\n",
    "    0.9618734423791657\n",
    "]]))"
   ]
  },
  {
   "cell_type": "code",
   "execution_count": 55,
   "metadata": {},
   "outputs": [
    {
     "name": "stdout",
     "output_type": "stream",
     "text": [
      "input tensor: tf.Tensor(\n",
      "[[0.17867227 0.3393038  0.481035   0.60387075 0.70780665 0.7928471\n",
      "  0.85898775 0.90623295 0.9345781  0.9446501 ]], shape=(1, 10), dtype=float32)\n",
      "prediction: tf.Tensor(\n",
      "[[-13.074495   -9.409701   -6.7724066  -8.272366   -8.93003    -5.8753896\n",
      "   -5.387417   -6.204199   -4.894806   -4.672768 ]], shape=(1, 10), dtype=float32)\n"
     ]
    },
    {
     "data": {
      "image/png": "[encoded data removed]",
      "text/plain": [
       "<matplotlib.figure.Figure at 0x1d2c848d30>"
      ]
     },
     "metadata": {},
     "output_type": "display_data"
    }
   ],
   "source": [
    "# No defect\n",
    "predict(tf.convert_to_tensor([[\n",
    "    0.17867226996276112,\n",
    "    0.33930378939950734,\n",
    "    0.481035002997144,\n",
    "    0.6038707215010158,\n",
    "    0.7078066565401998,\n",
    "    0.7928470994528833,\n",
    "    0.858987758901657,\n",
    "    0.9062329262293288,\n",
    "    0.934578099658785,\n",
    "    0.9446500995784997\n",
    "]]))"
   ]
  },
  {
   "cell_type": "code",
   "execution_count": 58,
   "metadata": {},
   "outputs": [
    {
     "name": "stdout",
     "output_type": "stream",
     "text": [
      "input tensor: tf.Tensor(\n",
      "[[0.20840536 0.37970582 0.5213906  0.6442305  0.74817556 0.8332112\n",
      "  0.8993544  0.9465954  0.9749427  0.98492825]], shape=(1, 10), dtype=float32)\n",
      "prediction: tf.Tensor(\n",
      "[[ 110.84947   105.36977    62.52899   -21.184887  -84.07829   -86.38661\n",
      "  -123.0402   -218.25356  -117.9125    -56.2838  ]], shape=(1, 10), dtype=float32)\n"
     ]
    },
    {
     "data": {
      "image/png": "[encoded data removed]",
      "text/plain": [
       "<matplotlib.figure.Figure at 0x1d2cc045c0>"
      ]
     },
     "metadata": {},
     "output_type": "display_data"
    }
   ],
   "source": [
    "# Defect at (10.0, 14.0)\n",
    "predict(tf.convert_to_tensor([[\n",
    "    0.2084053671038296,\n",
    "    0.37970581411662724,\n",
    "    0.5213906117281436,\n",
    "    0.6442304599276608,\n",
    "    0.748175573470863,\n",
    "    0.8332111802721919,\n",
    "    0.8993543897444377,\n",
    "    0.946595360708653,\n",
    "    0.974942673311495,\n",
    "    0.984928269210152\n",
    "]]))"
   ]
  },
  {
   "cell_type": "code",
   "execution_count": 59,
   "metadata": {},
   "outputs": [
    {
     "name": "stdout",
     "output_type": "stream",
     "text": [
      "input tensor: tf.Tensor(\n",
      "[[0.18664783 0.3440338  0.48581174 0.6086457  0.71258926 0.7976247\n",
      "  0.8637679  0.9110089  0.9393562  0.94934183]], shape=(1, 10), dtype=float32)\n",
      "prediction: tf.Tensor(\n",
      "[[  8.015734    6.6556826   0.305485  -10.979378  -17.417934  -17.892326\n",
      "  -24.536951  -40.284187  -21.966997  -12.46861  ]], shape=(1, 10), dtype=float32)\n"
     ]
    },
    {
     "data": {
      "image/png": "[encoded data removed]",
      "text/plain": [
       "<matplotlib.figure.Figure at 0x1d2ccd6748>"
      ]
     },
     "metadata": {},
     "output_type": "display_data"
    }
   ],
   "source": [
    "# Defect at (10.0, 6.0)\n",
    "predict(tf.convert_to_tensor([[\n",
    "    0.18664783343182367,\n",
    "    0.3440338215642104,\n",
    "    0.48581172726904326,\n",
    "    0.6086456507762161,\n",
    "    0.7125892832227723,\n",
    "    0.7976247214005071,\n",
    "    0.8637679342008161,\n",
    "    0.9110089051505142,\n",
    "    0.9393562177531636,\n",
    "    0.9493418136518551\n",
    "]]))"
   ]
  },
  {
   "cell_type": "code",
   "execution_count": 61,
   "metadata": {},
   "outputs": [
    {
     "name": "stdout",
     "output_type": "stream",
     "text": [
      "input tensor: tf.Tensor(\n",
      "[[0.1786674  0.33927664 0.48106042 0.6095861  0.70847636 0.7934835\n",
      "  0.85963124 0.9068722  0.93521553 0.94520634]], shape=(1, 10), dtype=float32)\n",
      "prediction: tf.Tensor(\n",
      "[[-14.87184   -10.097198   -6.2178116  -4.2029247  -4.314351   -5.494341\n",
      "   -8.796318  -15.515972  -11.495162   -7.575913 ]], shape=(1, 10), dtype=float32)\n"
     ]
    },
    {
     "data": {
      "image/png": "[encoded data removed]",
      "text/plain": [
       "<matplotlib.figure.Figure at 0x1d2cd8d9e8>"
      ]
     },
     "metadata": {},
     "output_type": "display_data"
    }
   ],
   "source": [
    "# Defect at (80.0, 10.0)\n",
    "predict(tf.convert_to_tensor([[\n",
    "    0.17866739596690678,\n",
    "    0.3392766278130301,\n",
    "    0.48106040917021586,\n",
    "    0.6095861442730324,\n",
    "    0.7084763728715435,\n",
    "    0.7934835045808317,\n",
    "    0.8596312374520064,\n",
    "    0.9068722140965333,\n",
    "    0.9352155451843441,\n",
    "    0.9452063594619821\n",
    "]]))"
   ]
  },
  {
   "cell_type": "code",
   "execution_count": 62,
   "metadata": {},
   "outputs": [
    {
     "name": "stdout",
     "output_type": "stream",
     "text": [
      "input tensor: tf.Tensor(\n",
      "[[0.17866813 0.33928114 0.4882161  0.62405294 0.7382702  0.82326305\n",
      "  0.8894036  0.93665373 0.96499294 0.97498447]], shape=(1, 10), dtype=float32)\n",
      "prediction: tf.Tensor(\n",
      "[[-44.033127   -21.018173     0.25544238  13.473587     8.768015\n",
      "    4.3921022   -1.6290605  -14.961985   -20.815237   -11.541506  ]], shape=(1, 10), dtype=float32)\n"
     ]
    },
    {
     "data": {
      "image/png": "[encoded data removed]",
      "text/plain": [
       "<matplotlib.figure.Figure at 0x1d2ce6e278>"
      ]
     },
     "metadata": {},
     "output_type": "display_data"
    }
   ],
   "source": [
    "# Defect at (70.0, 14.0)\n",
    "predict(tf.convert_to_tensor([[\n",
    "    0.17866813147982466,\n",
    "    0.3392811424393098,\n",
    "    0.48821610818944466,\n",
    "    0.6240529585805219,\n",
    "    0.7382702220498087,\n",
    "    0.823263039646359,\n",
    "    0.8894035848306389,\n",
    "    0.9366537413490406,\n",
    "    0.9649929191061973,\n",
    "    0.9749844626934407\n",
    "]]))"
   ]
  },
  {
   "cell_type": "code",
   "execution_count": 63,
   "metadata": {},
   "outputs": [
    {
     "name": "stdout",
     "output_type": "stream",
     "text": [
      "input tensor: tf.Tensor(\n",
      "[[0.17866704 0.3392875  0.48236826 0.6109506  0.71132606 0.79639846\n",
      "  0.86254996 0.9097909  0.9381342  0.948125  ]], shape=(1, 10), dtype=float32)\n",
      "prediction: tf.Tensor(\n",
      "[[-17.129847  -10.611743   -5.248522   -2.545704   -3.4150517  -4.915804\n",
      "   -8.642708  -16.429508  -12.914708   -8.195951 ]], shape=(1, 10), dtype=float32)\n"
     ]
    },
    {
     "data": {
      "image/png": "[encoded data removed]",
      "text/plain": [
       "<matplotlib.figure.Figure at 0x1d2ce54860>"
      ]
     },
     "metadata": {},
     "output_type": "display_data"
    }
   ],
   "source": [
    "# Defect at (70.0, 6.0)\n",
    "predict(tf.convert_to_tensor([[\n",
    "    0.17866704134216202,\n",
    "    0.3392874849059781,\n",
    "    0.4823682511684362,\n",
    "    0.6109505696834808,\n",
    "    0.7113260722852263,\n",
    "    0.7963984793187607,\n",
    "    0.8625499528703889,\n",
    "    0.9097908622557338,\n",
    "    0.9381341937426296,\n",
    "    0.9481250080278378\n",
    "]]))"
   ]
  },
  {
   "cell_type": "code",
   "execution_count": 64,
   "metadata": {},
   "outputs": [
    {
     "name": "stdout",
     "output_type": "stream",
     "text": [
      "input tensor: tf.Tensor(\n",
      "[[0.17866215 0.33929476 0.48102447 0.60386074 0.7077854  0.7928269\n",
      "  0.86086655 0.91309774 0.94630986 0.95626915]], shape=(1, 10), dtype=float32)\n",
      "prediction: tf.Tensor(\n",
      "[[-10.47636     -8.078808    -6.692586   -12.525782   -13.905325\n",
      "   -6.109595    -2.5691419    0.01464546  -0.7679466   -2.9638934 ]], shape=(1, 10), dtype=float32)\n"
     ]
    },
    {
     "data": {
      "image/png": "[encoded data removed]",
      "text/plain": [
       "<matplotlib.figure.Figure at 0x1d2d16e128>"
      ]
     },
     "metadata": {},
     "output_type": "display_data"
    }
   ],
   "source": [
    "# Defect at (150.0, 14.0)\n",
    "predict(tf.convert_to_tensor([[\n",
    "    0.1786621469021938,\n",
    "    0.33929476806433645,\n",
    "    0.48102447916278157,\n",
    "    0.6038607524216458,\n",
    "    0.7077854182079706,\n",
    "    0.7928268908401633,\n",
    "    0.860866544272033,\n",
    "    0.9130977574436594,\n",
    "    0.9463098826126599,\n",
    "    0.9562691747102455\n",
    "]]))"
   ]
  },
  {
   "cell_type": "code",
   "execution_count": 65,
   "metadata": {},
   "outputs": [
    {
     "name": "stdout",
     "output_type": "stream",
     "text": [
      "input tensor: tf.Tensor(\n",
      "[[0.17866215 0.33929476 0.48102447 0.60386074 0.707786   0.7928137\n",
      "  0.86100477 0.910504   0.935915   0.945924  ]], shape=(1, 10), dtype=float32)\n",
      "prediction: tf.Tensor(\n",
      "[[-14.11662   -10.3434     -7.258769   -9.183434   -9.597399   -4.9138494\n",
      "   -3.065151   -1.9387248  -2.5825706  -3.6700685]], shape=(1, 10), dtype=float32)\n"
     ]
    },
    {
     "data": {
      "image/png": "[encoded data removed]",
      "text/plain": [
       "<matplotlib.figure.Figure at 0x1d2d240668>"
      ]
     },
     "metadata": {},
     "output_type": "display_data"
    }
   ],
   "source": [
    "# Defect at (150.0, 6.0)\n",
    "predict(tf.convert_to_tensor([[\n",
    "    0.17866214691022284,\n",
    "    0.33929476808124515,\n",
    "    0.4810244790303662,\n",
    "    0.6038607576386035,\n",
    "    0.7077860174516186,\n",
    "    0.7928137101802392,\n",
    "    0.8610047657323178,\n",
    "    0.9105039784107096,\n",
    "    0.9359149919836193,\n",
    "    0.9459239699219951\n",
    "]]))"
   ]
  },
  {
   "cell_type": "code",
   "execution_count": null,
   "metadata": {},
   "outputs": [],
   "source": []
  }
 ],
 "metadata": {
  "kernelspec": {
   "display_name": "NeuralNetwork",
   "language": "python",
   "name": "neuralnetwork"
  },
  "language_info": {
   "codemirror_mode": {
    "name": "ipython",
    "version": 3
   },
   "file_extension": ".py",
   "mimetype": "text/x-python",
   "name": "python",
   "nbconvert_exporter": "python",
   "pygments_lexer": "ipython3",
   "version": "3.6.4"
  }
 },
 "nbformat": 4,
 "nbformat_minor": 2
}
