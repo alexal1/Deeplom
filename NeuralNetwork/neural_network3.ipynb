{
 "cells": [
  {
   "cell_type": "code",
   "execution_count": 1,
   "metadata": {},
   "outputs": [
    {
     "name": "stdout",
     "output_type": "stream",
     "text": [
      "WARNING:tensorflow:From /anaconda3/lib/python3.6/site-packages/tensorflow/contrib/learn/python/learn/datasets/base.py:198: retry (from tensorflow.contrib.learn.python.learn.datasets.base) is deprecated and will be removed in a future version.\n",
      "Instructions for updating:\n",
      "Use the retry module or similar alternatives.\n",
      "TensorFlow version: 1.7.0\n",
      "Eager execution: True\n"
     ]
    }
   ],
   "source": [
    "import os\n",
    "import matplotlib.pyplot as plt\n",
    "\n",
    "import tensorflow as tf\n",
    "import tensorflow.contrib.eager as tfe\n",
    "\n",
    "RANDOM_SEED = 42\n",
    "\n",
    "tf.enable_eager_execution()\n",
    "tf.set_random_seed(RANDOM_SEED)\n",
    "\n",
    "print(\"TensorFlow version: {}\".format(tf.VERSION))\n",
    "print(\"Eager execution: {}\".format(tf.executing_eagerly()))"
   ]
  },
  {
   "cell_type": "code",
   "execution_count": 2,
   "metadata": {},
   "outputs": [
    {
     "name": "stdout",
     "output_type": "stream",
     "text": [
      "example features: tf.Tensor(\n",
      "[0.17866175 0.33928698 0.48101556 0.6090708  0.71117353 0.7917249\n",
      " 0.85787237 0.90511966 0.9334624  0.9434532 ], shape=(10,), dtype=float32)\n",
      "example label: tf.Tensor(2, shape=(), dtype=int32)\n"
     ]
    }
   ],
   "source": [
    "dataset_fp = \"../DataSource/output3_2kg_elem4.csv\"\n",
    "\n",
    "def parse_csv(line):\n",
    "    # Set field types\n",
    "    example_defaults = [[0], [0.], [0.], [0.], [0.], [0.], [0.], [0.], [0.], [0.], [0.], [0.], [0.], [0.], [0.]]\n",
    "    parsed_line = tf.decode_csv(line, example_defaults, field_delim=\";\")\n",
    "    # Last 10 fields are features, combine into single tensor\n",
    "    features_ = tf.reshape(parsed_line[5:15], shape=[10])\n",
    "    # Label is obtained from defect extent\n",
    "    label_ = (tf.reshape(parsed_line[3], shape=[]) - 4) // 4\n",
    "    label_ = tf.cast(label_, tf.int32)\n",
    "    return features_, label_\n",
    "\n",
    "dataset = tf.data.TextLineDataset(dataset_fp)\n",
    "dataset = dataset.skip(1)\n",
    "\n",
    "train_dataset_size = 8000\n",
    "train_dataset = dataset.take(train_dataset_size)\n",
    "train_dataset = train_dataset.map(parse_csv)\n",
    "train_dataset = train_dataset.shuffle(buffer_size=10000)\n",
    "train_dataset = train_dataset.batch(32)\n",
    "\n",
    "test_dataset = dataset.skip(train_dataset_size)\n",
    "test_dataset = test_dataset.map(parse_csv)\n",
    "test_dataset = test_dataset.shuffle(buffer_size=10000)\n",
    "test_dataset = test_dataset.batch(32)\n",
    "\n",
    "# View a single example entry from a batch\n",
    "features, label = tfe.Iterator(train_dataset).next()\n",
    "print(\"example features:\", features[0])\n",
    "print(\"example label:\", label[0])"
   ]
  },
  {
   "cell_type": "code",
   "execution_count": 3,
   "metadata": {},
   "outputs": [],
   "source": [
    "model = tf.keras.Sequential([\n",
    "    tf.keras.layers.Dense(10, activation=\"relu\", input_shape=(10,)),  # input shape required\n",
    "    tf.keras.layers.Dense(10, activation=\"relu\"),\n",
    "    tf.keras.layers.Dense(3)\n",
    "])\n",
    "\n",
    "def loss(model, x, y):\n",
    "    y_ = model(x)\n",
    "    return tf.losses.sparse_softmax_cross_entropy(labels=y, logits=y_)\n",
    "\n",
    "def grad(model, inputs, targets):\n",
    "    with tfe.GradientTape() as tape:\n",
    "        loss_value = loss(model, inputs, targets)\n",
    "    return tape.gradient(loss_value, model.variables)\n",
    "\n",
    "optimizer = tf.train.AdagradOptimizer(learning_rate=0.1)\n",
    "\n",
    "# keep results for plotting\n",
    "train_loss_results = []\n",
    "train_accuracy_results = []\n",
    "test_loss_results = []\n",
    "test_accuracy_results = []"
   ]
  },
  {
   "cell_type": "code",
   "execution_count": 4,
   "metadata": {},
   "outputs": [
    {
     "name": "stdout",
     "output_type": "stream",
     "text": [
      "Epoch 000: Loss: 1.094, Accuracy: 36.788%\n",
      "Test set: Loss: 1.100, Accuracy: 32.400%\n",
      "Epoch 100: Loss: 1.059, Accuracy: 41.713%\n",
      "Test set: Loss: 1.074, Accuracy: 38.700%\n",
      "Epoch 200: Loss: 1.027, Accuracy: 45.675%\n",
      "Test set: Loss: 1.049, Accuracy: 41.950%\n",
      "Epoch 300: Loss: 0.995, Accuracy: 50.462%\n",
      "Test set: Loss: 1.019, Accuracy: 50.450%\n",
      "Epoch 400: Loss: 0.974, Accuracy: 52.587%\n",
      "Test set: Loss: 1.000, Accuracy: 51.250%\n",
      "Epoch 500: Loss: 0.961, Accuracy: 53.500%\n",
      "Test set: Loss: 0.989, Accuracy: 50.900%\n",
      "Epoch 600: Loss: 0.953, Accuracy: 53.938%\n",
      "Test set: Loss: 0.981, Accuracy: 50.600%\n",
      "Epoch 700: Loss: 0.947, Accuracy: 54.212%\n",
      "Test set: Loss: 0.975, Accuracy: 51.150%\n",
      "Epoch 800: Loss: 0.943, Accuracy: 54.388%\n",
      "Test set: Loss: 0.972, Accuracy: 50.900%\n",
      "Epoch 900: Loss: 0.940, Accuracy: 54.600%\n",
      "Test set: Loss: 0.969, Accuracy: 51.050%\n",
      "Epoch 1000: Loss: 0.936, Accuracy: 54.737%\n",
      "Test set: Loss: 0.966, Accuracy: 51.300%\n",
      "Epoch 1100: Loss: 0.934, Accuracy: 55.175%\n",
      "Test set: Loss: 0.963, Accuracy: 51.700%\n",
      "Epoch 1200: Loss: 0.931, Accuracy: 55.100%\n",
      "Test set: Loss: 0.961, Accuracy: 52.250%\n",
      "Epoch 1300: Loss: 0.928, Accuracy: 55.250%\n",
      "Test set: Loss: 0.959, Accuracy: 52.100%\n",
      "Epoch 1400: Loss: 0.925, Accuracy: 55.562%\n",
      "Test set: Loss: 0.958, Accuracy: 51.600%\n",
      "Epoch 1500: Loss: 0.923, Accuracy: 55.725%\n",
      "Test set: Loss: 0.956, Accuracy: 51.650%\n",
      "Epoch 1600: Loss: 0.921, Accuracy: 55.688%\n",
      "Test set: Loss: 0.950, Accuracy: 53.050%\n",
      "Epoch 1700: Loss: 0.918, Accuracy: 55.750%\n",
      "Test set: Loss: 0.948, Accuracy: 53.600%\n",
      "Epoch 1800: Loss: 0.917, Accuracy: 56.087%\n",
      "Test set: Loss: 0.947, Accuracy: 52.650%\n",
      "Epoch 1900: Loss: 0.914, Accuracy: 56.225%\n",
      "Test set: Loss: 0.944, Accuracy: 54.400%\n",
      "Epoch 2000: Loss: 0.912, Accuracy: 56.488%\n",
      "Test set: Loss: 0.941, Accuracy: 54.550%\n",
      "Epoch 2100: Loss: 0.910, Accuracy: 56.825%\n",
      "Test set: Loss: 0.940, Accuracy: 53.250%\n",
      "Epoch 2200: Loss: 0.908, Accuracy: 56.975%\n",
      "Test set: Loss: 0.937, Accuracy: 55.550%\n",
      "Epoch 2300: Loss: 0.905, Accuracy: 57.125%\n",
      "Test set: Loss: 0.935, Accuracy: 55.850%\n",
      "Epoch 2400: Loss: 0.903, Accuracy: 57.325%\n",
      "Test set: Loss: 0.932, Accuracy: 55.950%\n",
      "Epoch 2500: Loss: 0.900, Accuracy: 57.438%\n",
      "Test set: Loss: 0.931, Accuracy: 55.500%\n",
      "Epoch 2600: Loss: 0.898, Accuracy: 57.825%\n",
      "Test set: Loss: 0.928, Accuracy: 55.450%\n",
      "Epoch 2700: Loss: 0.895, Accuracy: 58.112%\n",
      "Test set: Loss: 0.925, Accuracy: 55.900%\n",
      "Epoch 2800: Loss: 0.892, Accuracy: 58.462%\n",
      "Test set: Loss: 0.922, Accuracy: 56.250%\n",
      "Epoch 2900: Loss: 0.890, Accuracy: 58.637%\n",
      "Test set: Loss: 0.920, Accuracy: 56.650%\n",
      "Epoch 3000: Loss: 0.887, Accuracy: 58.888%\n",
      "Test set: Loss: 0.917, Accuracy: 56.850%\n",
      "Epoch 3100: Loss: 0.884, Accuracy: 59.125%\n",
      "Test set: Loss: 0.915, Accuracy: 57.050%\n",
      "Epoch 3200: Loss: 0.881, Accuracy: 59.200%\n",
      "Test set: Loss: 0.912, Accuracy: 57.900%\n",
      "Epoch 3300: Loss: 0.878, Accuracy: 59.438%\n",
      "Test set: Loss: 0.909, Accuracy: 57.750%\n",
      "Epoch 3400: Loss: 0.875, Accuracy: 59.913%\n",
      "Test set: Loss: 0.908, Accuracy: 57.350%\n",
      "Epoch 3500: Loss: 0.871, Accuracy: 60.038%\n",
      "Test set: Loss: 0.905, Accuracy: 57.300%\n",
      "Epoch 3600: Loss: 0.868, Accuracy: 60.113%\n",
      "Test set: Loss: 0.901, Accuracy: 57.900%\n",
      "Epoch 3700: Loss: 0.865, Accuracy: 60.588%\n",
      "Test set: Loss: 0.897, Accuracy: 58.550%\n",
      "Epoch 3800: Loss: 0.862, Accuracy: 60.888%\n",
      "Test set: Loss: 0.895, Accuracy: 58.200%\n",
      "Epoch 3900: Loss: 0.858, Accuracy: 61.225%\n",
      "Test set: Loss: 0.891, Accuracy: 58.650%\n",
      "Epoch 4000: Loss: 0.855, Accuracy: 61.387%\n",
      "Test set: Loss: 0.886, Accuracy: 58.600%\n",
      "Epoch 4100: Loss: 0.851, Accuracy: 61.550%\n",
      "Test set: Loss: 0.881, Accuracy: 59.150%\n",
      "Epoch 4200: Loss: 0.847, Accuracy: 61.925%\n",
      "Test set: Loss: 0.877, Accuracy: 59.700%\n",
      "Epoch 4300: Loss: 0.843, Accuracy: 62.213%\n",
      "Test set: Loss: 0.872, Accuracy: 59.950%\n",
      "Epoch 4400: Loss: 0.839, Accuracy: 62.613%\n",
      "Test set: Loss: 0.868, Accuracy: 59.900%\n",
      "Epoch 4500: Loss: 0.836, Accuracy: 62.962%\n",
      "Test set: Loss: 0.863, Accuracy: 61.350%\n",
      "Epoch 4600: Loss: 0.832, Accuracy: 63.450%\n",
      "Test set: Loss: 0.859, Accuracy: 61.850%\n",
      "Epoch 4700: Loss: 0.828, Accuracy: 63.575%\n",
      "Test set: Loss: 0.856, Accuracy: 62.000%\n",
      "Epoch 4800: Loss: 0.824, Accuracy: 63.962%\n",
      "Test set: Loss: 0.852, Accuracy: 62.650%\n",
      "Epoch 4900: Loss: 0.821, Accuracy: 64.212%\n",
      "Test set: Loss: 0.849, Accuracy: 63.000%\n",
      "Epoch 5000: Loss: 0.817, Accuracy: 64.500%\n",
      "Test set: Loss: 0.845, Accuracy: 63.300%\n",
      "Epoch 5100: Loss: 0.814, Accuracy: 64.712%\n",
      "Test set: Loss: 0.842, Accuracy: 63.750%\n",
      "Epoch 5200: Loss: 0.810, Accuracy: 65.000%\n",
      "Test set: Loss: 0.839, Accuracy: 63.900%\n",
      "Epoch 5300: Loss: 0.807, Accuracy: 65.175%\n",
      "Test set: Loss: 0.836, Accuracy: 64.100%\n",
      "Epoch 5400: Loss: 0.804, Accuracy: 65.463%\n",
      "Test set: Loss: 0.833, Accuracy: 64.600%\n",
      "Epoch 5500: Loss: 0.801, Accuracy: 65.712%\n",
      "Test set: Loss: 0.830, Accuracy: 65.200%\n",
      "Epoch 5600: Loss: 0.798, Accuracy: 65.812%\n",
      "Test set: Loss: 0.827, Accuracy: 64.950%\n",
      "Epoch 5700: Loss: 0.795, Accuracy: 66.088%\n",
      "Test set: Loss: 0.825, Accuracy: 65.150%\n",
      "Epoch 5800: Loss: 0.792, Accuracy: 66.287%\n",
      "Test set: Loss: 0.822, Accuracy: 65.300%\n",
      "Epoch 5900: Loss: 0.790, Accuracy: 66.538%\n",
      "Test set: Loss: 0.819, Accuracy: 65.600%\n",
      "Epoch 6000: Loss: 0.787, Accuracy: 66.562%\n",
      "Test set: Loss: 0.817, Accuracy: 65.350%\n",
      "Epoch 6100: Loss: 0.784, Accuracy: 66.675%\n",
      "Test set: Loss: 0.814, Accuracy: 65.550%\n",
      "Epoch 6200: Loss: 0.781, Accuracy: 66.600%\n",
      "Test set: Loss: 0.811, Accuracy: 66.000%\n",
      "Epoch 6300: Loss: 0.779, Accuracy: 66.775%\n",
      "Test set: Loss: 0.809, Accuracy: 66.200%\n",
      "Epoch 6400: Loss: 0.776, Accuracy: 67.050%\n",
      "Test set: Loss: 0.806, Accuracy: 66.400%\n",
      "Epoch 6500: Loss: 0.774, Accuracy: 67.237%\n",
      "Test set: Loss: 0.803, Accuracy: 66.450%\n",
      "Epoch 6600: Loss: 0.771, Accuracy: 67.375%\n",
      "Test set: Loss: 0.801, Accuracy: 66.550%\n",
      "Epoch 6700: Loss: 0.768, Accuracy: 67.500%\n",
      "Test set: Loss: 0.798, Accuracy: 66.500%\n",
      "Epoch 6800: Loss: 0.766, Accuracy: 67.575%\n",
      "Test set: Loss: 0.796, Accuracy: 66.500%\n",
      "Epoch 6900: Loss: 0.764, Accuracy: 67.575%\n",
      "Test set: Loss: 0.793, Accuracy: 66.600%\n",
      "Epoch 7000: Loss: 0.762, Accuracy: 67.763%\n",
      "Test set: Loss: 0.791, Accuracy: 66.600%\n",
      "Epoch 7100: Loss: 0.759, Accuracy: 67.975%\n",
      "Test set: Loss: 0.789, Accuracy: 66.550%\n",
      "Epoch 7200: Loss: 0.757, Accuracy: 68.037%\n",
      "Test set: Loss: 0.787, Accuracy: 66.650%\n",
      "Epoch 7300: Loss: 0.755, Accuracy: 68.287%\n",
      "Test set: Loss: 0.784, Accuracy: 67.000%\n",
      "Epoch 7400: Loss: 0.753, Accuracy: 68.438%\n",
      "Test set: Loss: 0.783, Accuracy: 67.550%\n",
      "Epoch 7500: Loss: 0.751, Accuracy: 68.550%\n",
      "Test set: Loss: 0.780, Accuracy: 67.200%\n",
      "Epoch 7600: Loss: 0.749, Accuracy: 68.438%\n",
      "Test set: Loss: 0.779, Accuracy: 66.900%\n",
      "Epoch 7700: Loss: 0.746, Accuracy: 68.375%\n",
      "Test set: Loss: 0.776, Accuracy: 66.850%\n",
      "Epoch 7800: Loss: 0.744, Accuracy: 68.513%\n",
      "Test set: Loss: 0.775, Accuracy: 67.050%\n",
      "Epoch 7900: Loss: 0.742, Accuracy: 68.312%\n",
      "Test set: Loss: 0.773, Accuracy: 67.150%\n",
      "Epoch 8000: Loss: 0.740, Accuracy: 68.588%\n",
      "Test set: Loss: 0.771, Accuracy: 66.850%\n",
      "Epoch 8100: Loss: 0.737, Accuracy: 68.775%\n",
      "Test set: Loss: 0.769, Accuracy: 67.350%\n",
      "Epoch 8200: Loss: 0.735, Accuracy: 68.663%\n",
      "Test set: Loss: 0.767, Accuracy: 67.600%\n",
      "Epoch 8300: Loss: 0.733, Accuracy: 68.812%\n",
      "Test set: Loss: 0.765, Accuracy: 67.600%\n",
      "Epoch 8400: Loss: 0.731, Accuracy: 68.975%\n",
      "Test set: Loss: 0.763, Accuracy: 68.200%\n",
      "Epoch 8500: Loss: 0.729, Accuracy: 68.963%\n",
      "Test set: Loss: 0.761, Accuracy: 68.300%\n",
      "Epoch 8600: Loss: 0.727, Accuracy: 68.938%\n",
      "Test set: Loss: 0.760, Accuracy: 68.350%\n",
      "Epoch 8700: Loss: 0.725, Accuracy: 69.088%\n",
      "Test set: Loss: 0.758, Accuracy: 68.450%\n",
      "Epoch 8800: Loss: 0.723, Accuracy: 69.150%\n",
      "Test set: Loss: 0.756, Accuracy: 68.550%\n",
      "Epoch 8900: Loss: 0.721, Accuracy: 69.125%\n",
      "Test set: Loss: 0.755, Accuracy: 68.450%\n",
      "Epoch 9000: Loss: 0.719, Accuracy: 69.112%\n",
      "Test set: Loss: 0.754, Accuracy: 68.300%\n",
      "Epoch 9100: Loss: 0.717, Accuracy: 69.175%\n",
      "Test set: Loss: 0.752, Accuracy: 68.350%\n",
      "Epoch 9200: Loss: 0.715, Accuracy: 69.263%\n",
      "Test set: Loss: 0.752, Accuracy: 68.600%\n",
      "Epoch 9300: Loss: 0.713, Accuracy: 69.337%\n",
      "Test set: Loss: 0.750, Accuracy: 68.650%\n",
      "Epoch 9400: Loss: 0.711, Accuracy: 69.350%\n",
      "Test set: Loss: 0.749, Accuracy: 68.600%\n",
      "Epoch 9500: Loss: 0.710, Accuracy: 69.425%\n",
      "Test set: Loss: 0.748, Accuracy: 68.700%\n",
      "Epoch 9600: Loss: 0.708, Accuracy: 69.400%\n",
      "Test set: Loss: 0.746, Accuracy: 68.750%\n",
      "Epoch 9700: Loss: 0.706, Accuracy: 69.450%\n",
      "Test set: Loss: 0.744, Accuracy: 68.650%\n"
     ]
    },
    {
     "name": "stdout",
     "output_type": "stream",
     "text": [
      "Epoch 9800: Loss: 0.705, Accuracy: 69.487%\n",
      "Test set: Loss: 0.743, Accuracy: 68.600%\n",
      "Epoch 9900: Loss: 0.704, Accuracy: 69.612%\n",
      "Test set: Loss: 0.744, Accuracy: 69.350%\n",
      "Epoch 10000: Loss: 0.702, Accuracy: 69.675%\n",
      "Test set: Loss: 0.743, Accuracy: 69.300%\n"
     ]
    }
   ],
   "source": [
    "num_epochs = 10001\n",
    "\n",
    "for epoch in range(num_epochs):\n",
    "    epoch_loss_avg = tfe.metrics.Mean()\n",
    "    epoch_accuracy = tfe.metrics.Accuracy()\n",
    "\n",
    "    # Training loop - using batches of 64\n",
    "    for x, y in tfe.Iterator(train_dataset):\n",
    "        # Optimize the model\n",
    "        grads = grad(model, x, y)\n",
    "        optimizer.apply_gradients(zip(grads, model.variables),\n",
    "                                  global_step=tf.train.get_or_create_global_step())\n",
    "\n",
    "        # Track progress\n",
    "        epoch_loss_avg(loss(model, x, y))  # add current batch loss\n",
    "        # compare predicted label to actual label\n",
    "        epoch_accuracy(tf.argmax(model(x), axis=1, output_type=tf.int32), y)\n",
    "\n",
    "    # end epoch\n",
    "    train_loss_results.append(epoch_loss_avg.result())\n",
    "    train_accuracy_results.append(epoch_accuracy.result())\n",
    "    \n",
    "    # Evaluate the model on the test dataset\n",
    "    test_loss_avg = tfe.metrics.Mean()\n",
    "    test_accuracy = tfe.metrics.Accuracy()\n",
    "\n",
    "    for x, y in tfe.Iterator(test_dataset):\n",
    "        prediction = tf.argmax(model(x), axis=1, output_type=tf.int32)\n",
    "        test_loss_avg(loss(model, x, y))\n",
    "        test_accuracy(prediction, y)\n",
    "\n",
    "    test_loss_results.append(test_loss_avg.result())\n",
    "    test_accuracy_results.append(test_accuracy.result())\n",
    "    \n",
    "    if epoch % 100 == 0:\n",
    "        print(\"Epoch {:03d}: Loss: {:.3f}, Accuracy: {:.3%}\".format(epoch,\n",
    "                                                                epoch_loss_avg.result(),\n",
    "                                                                epoch_accuracy.result()))\n",
    "        \n",
    "        print(\"Test set: Loss: {:.3f}, Accuracy: {:.3%}\".format(test_loss_avg.result(),\n",
    "                                                                test_accuracy.result()))"
   ]
  },
  {
   "cell_type": "code",
   "execution_count": 5,
   "metadata": {},
   "outputs": [
    {
     "data": {
      "image/png": "[encoded data removed]",
      "text/plain": [
       "<matplotlib.figure.Figure at 0x1c2c6145c0>"
      ]
     },
     "metadata": {},
     "output_type": "display_data"
    }
   ],
   "source": [
    "fig, axes = plt.subplots(2, sharex=True, figsize=(12, 8))\n",
    "fig.suptitle('Training Metrics')\n",
    "\n",
    "axes[0].set_ylabel(\"Loss\", fontsize=14)\n",
    "axes[0].plot(train_loss_results, label=\"train\")\n",
    "axes[0].plot(test_loss_results, label=\"test\")\n",
    "axes[0].legend(bbox_to_anchor=(1.01, 1), loc='upper left', borderaxespad=0.)\n",
    "\n",
    "axes[1].set_ylabel(\"Accuracy\", fontsize=14)\n",
    "axes[1].set_xlabel(\"Epoch\", fontsize=14)\n",
    "axes[1].plot(train_accuracy_results, label=\"train\")\n",
    "axes[1].plot(test_accuracy_results, label=\"test\")\n",
    "axes[1].legend(bbox_to_anchor=(1.01, 1), loc='upper left', borderaxespad=0.)\n",
    "\n",
    "plt.show()"
   ]
  },
  {
   "cell_type": "code",
   "execution_count": 6,
   "metadata": {},
   "outputs": [],
   "source": [
    "def predict(input_tensor):\n",
    "    print(\"input tensor:\", input_tensor)\n",
    "    prediction = model(input_tensor)\n",
    "    print(\"prediction:\", prediction)\n",
    "    probabilities = tf.contrib.util.constant_value(tf.nn.softmax(prediction))[0]\n",
    "    plt.bar(range(3), probabilities, tick_label=range(3))\n",
    "    plt.show()"
   ]
  },
  {
   "cell_type": "code",
   "execution_count": 10,
   "metadata": {},
   "outputs": [
    {
     "name": "stdout",
     "output_type": "stream",
     "text": [
      "input tensor: tf.Tensor(\n",
      "[[0.1786674  0.3392767  0.48101023 0.60972714 0.72463435 0.8186188\n",
      "  0.8847279  0.93197733 0.96031654 0.9703081 ]], shape=(1, 10), dtype=float32)\n",
      "prediction: tf.Tensor([[-0.731302    0.18992753 -0.32307863]], shape=(1, 3), dtype=float32)\n"
     ]
    },
    {
     "data": {
      "image/png": "[encoded data removed]",
      "text/plain": [
       "<matplotlib.figure.Figure at 0x1e36d65b38>"
      ]
     },
     "metadata": {},
     "output_type": "display_data"
    }
   ],
   "source": [
    "# Defect at (90.0, 14.0) with extent 10\n",
    "predict(tf.convert_to_tensor([[\n",
    "    0.1786673937420182,\n",
    "    0.3392766868462858,\n",
    "    0.48101021506271097,\n",
    "    0.6097271549464971,\n",
    "    0.7246343291551015,\n",
    "    0.8186187667071658,\n",
    "    0.8847279021514868,\n",
    "    0.9319773563593714,\n",
    "    0.9603165536211958,\n",
    "    0.9703080969821836\n",
    "]]))"
   ]
  },
  {
   "cell_type": "code",
   "execution_count": 11,
   "metadata": {},
   "outputs": [
    {
     "name": "stdout",
     "output_type": "stream",
     "text": [
      "input tensor: tf.Tensor(\n",
      "[[0.17866175 0.3392871  0.48101184 0.6056347  0.7219559  0.81009907\n",
      "  0.8762217  0.9234719  0.95181113 0.96180266]], shape=(1, 10), dtype=float32)\n",
      "prediction: tf.Tensor([[ 0.3385613   0.16704519 -1.11117   ]], shape=(1, 3), dtype=float32)\n"
     ]
    },
    {
     "data": {
      "image/png": "[encoded data removed]",
      "text/plain": [
       "<matplotlib.figure.Figure at 0x1e36e855c0>"
      ]
     },
     "metadata": {},
     "output_type": "display_data"
    }
   ],
   "source": [
    "# Defect at (90.0, 14.0) with extent 6\n",
    "predict(tf.convert_to_tensor([[\n",
    "    0.1786617484778206,\n",
    "    0.3392870977075673,\n",
    "    0.4810118477682601,\n",
    "    0.6056346667918132,\n",
    "    0.7219558726012127,\n",
    "    0.8100990500862282,\n",
    "    0.876221724048476,\n",
    "    0.9234719401124436,\n",
    "    0.9518111204513261,\n",
    "    0.9618026639739699\n",
    "]]))"
   ]
  },
  {
   "cell_type": "code",
   "execution_count": 12,
   "metadata": {},
   "outputs": [
    {
     "name": "stdout",
     "output_type": "stream",
     "text": [
      "input tensor: tf.Tensor(\n",
      "[[0.17866738 0.33927748 0.48102653 0.61564344 0.72725624 0.826922\n",
      "  0.893062   0.9403071  0.96865195 0.97864354]], shape=(1, 10), dtype=float32)\n",
      "prediction: tf.Tensor([[-5.7308054  0.3174371  3.7844276]], shape=(1, 3), dtype=float32)\n"
     ]
    },
    {
     "data": {
      "image/png": "[encoded data removed]",
      "text/plain": [
       "<matplotlib.figure.Figure at 0x1e370eef98>"
      ]
     },
     "metadata": {},
     "output_type": "display_data"
    }
   ],
   "source": [
    "# Defect at (90.0, 14.0) with extent 14\n",
    "predict(tf.convert_to_tensor([[\n",
    "    0.17866738050075093,\n",
    "    0.33927747029662964,\n",
    "    0.48102654369382813,\n",
    "    0.6156434188191063,\n",
    "    0.7272562279732668,\n",
    "    0.8269220225176204,\n",
    "    0.8930619788663562,\n",
    "    0.9403071089482046,\n",
    "    0.968651950600269,\n",
    "    0.9786435178209939\n",
    "]]))"
   ]
  },
  {
   "cell_type": "code",
   "execution_count": null,
   "metadata": {},
   "outputs": [],
   "source": []
  }
 ],
 "metadata": {
  "kernelspec": {
   "display_name": "NeuralNetwork",
   "language": "python",
   "name": "neuralnetwork"
  },
  "language_info": {
   "codemirror_mode": {
    "name": "ipython",
    "version": 3
   },
   "file_extension": ".py",
   "mimetype": "text/x-python",
   "name": "python",
   "nbconvert_exporter": "python",
   "pygments_lexer": "ipython3",
   "version": "3.6.4"
  }
 },
 "nbformat": 4,
 "nbformat_minor": 2
}
